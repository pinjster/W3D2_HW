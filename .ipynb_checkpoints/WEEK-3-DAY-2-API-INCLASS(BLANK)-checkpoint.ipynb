{
 "cells": [
  {
   "cell_type": "markdown",
   "metadata": {},
   "source": [
    "# APIs\n"
   ]
  },
  {
   "cell_type": "markdown",
   "metadata": {},
   "source": [
    "## Tasks Today:\n",
    "1) <b>Requests and the pokemon API </b> <br>\n",
    " "
   ]
  },
  {
   "cell_type": "markdown",
   "metadata": {},
   "source": [
    "# working with APis"
   ]
  },
  {
   "cell_type": "markdown",
   "metadata": {},
   "source": [
    "<p> What exactly is an API? <br> <br>\n",
    "API is the acronym for Application Programming Interface, which is a software intermediary that allows two applications to talk to each other. Each time you use an app like Facebook, send an instant message, or check the weather on your phone, you're using an API. </p>"
   ]
  },
  {
   "cell_type": "markdown",
   "metadata": {},
   "source": [
    "### The Poke API  allows you to retreive a pokemon's information from PokeAPI https://pokeapi.co/\n",
    "\n"
   ]
  },
  {
   "cell_type": "code",
   "execution_count": 10,
   "metadata": {},
   "outputs": [
    {
     "name": "stdout",
     "output_type": "stream",
     "text": [
      "<Response [200]>\n",
      "True\n",
      "SUCCESS\n"
     ]
    }
   ],
   "source": [
    "# making an API call\n",
    "#from requests import get\n",
    "\n",
    "api_endpoint = 'https://pokeapi.co/api/v2/pokemon'\n",
    "\n",
    "#requests.get()\n",
    "\n",
    "response = get(f'{api_endpoint}/stunky')\n",
    "print(response)\n",
    "print(response.ok)\n",
    "if response.status_code == 200:\n",
    "    print('SUCCESS')\n",
    "    data = response.json()\n",
    "else:\n",
    "    print(f'ERROR, STATUS CODE {response.status_code}')"
   ]
  },
  {
   "cell_type": "markdown",
   "metadata": {},
   "source": [
    "### Display a Pokemon's name, weight, abilities, and types"
   ]
  },
  {
   "cell_type": "code",
   "execution_count": 14,
   "metadata": {
    "scrolled": true
   },
   "outputs": [
    {
     "data": {
      "text/plain": [
       "'stunky'"
      ]
     },
     "execution_count": 14,
     "metadata": {},
     "output_type": "execute_result"
    }
   ],
   "source": [
    "# get the name\n",
    "data['name']"
   ]
  },
  {
   "cell_type": "code",
   "execution_count": 5,
   "metadata": {},
   "outputs": [],
   "source": [
    "# get types\n"
   ]
  },
  {
   "cell_type": "code",
   "execution_count": 6,
   "metadata": {},
   "outputs": [],
   "source": [
    "# get weight\n"
   ]
  },
  {
   "cell_type": "code",
   "execution_count": 7,
   "metadata": {},
   "outputs": [],
   "source": [
    "# get abilities\n"
   ]
  },
  {
   "cell_type": "code",
   "execution_count": 6,
   "metadata": {},
   "outputs": [],
   "source": [
    "# Create a structure for a single pokemon\n"
   ]
  },
  {
   "cell_type": "code",
   "execution_count": null,
   "metadata": {},
   "outputs": [],
   "source": []
  },
  {
   "cell_type": "markdown",
   "metadata": {},
   "source": [
    "#### Create a function to Pull in your own Pokemon's data "
   ]
  },
  {
   "cell_type": "code",
   "execution_count": 10,
   "metadata": {},
   "outputs": [],
   "source": [
    "def poke_api_call(pokemon):\n",
    "    pass"
   ]
  },
  {
   "cell_type": "markdown",
   "metadata": {},
   "source": [
    "Choose your pokemon"
   ]
  },
  {
   "cell_type": "code",
   "execution_count": null,
   "metadata": {},
   "outputs": [],
   "source": [
    "from random import randint\n",
    "# Random number generated for each pokemon id\n",
    "random_team = [randint(1,898) for i in range(6)]\n",
    "\n",
    "your_team = ['electabuzz', 'haunter','tyranitar','blaziken','marowak','dragonair']\n"
   ]
  },
  {
   "cell_type": "code",
   "execution_count": 16,
   "metadata": {},
   "outputs": [
    {
     "ename": "NameError",
     "evalue": "name 'your_team' is not defined",
     "output_type": "error",
     "traceback": [
      "\u001b[1;31m---------------------------------------------------------------------------\u001b[0m",
      "\u001b[1;31mNameError\u001b[0m                                 Traceback (most recent call last)",
      "Cell \u001b[1;32mIn[16], line 1\u001b[0m\n\u001b[1;32m----> 1\u001b[0m your_team_dict \u001b[38;5;241m=\u001b[39m {pokemon:get_poke_data(pokemon) \u001b[38;5;28;01mfor\u001b[39;00m pokemon \u001b[38;5;129;01min\u001b[39;00m \u001b[43myour_team\u001b[49m}\n",
      "\u001b[1;31mNameError\u001b[0m: name 'your_team' is not defined"
     ]
    }
   ],
   "source": [
    "your_team_dict = {pokemon:get_poke_data(pokemon) for pokemon in your_team}"
   ]
  },
  {
   "cell_type": "markdown",
   "metadata": {},
   "source": [
    "#### Use your function to create a dictionary of your Johto League 6  (favorite 6 pokemon)"
   ]
  },
  {
   "cell_type": "code",
   "execution_count": 11,
   "metadata": {},
   "outputs": [],
   "source": [
    "# Place all 6 of your pokemon on the object below, each pokemon should have at least as much info as Pikachu did.\n",
    "my_six_pokemon = {}\n"
   ]
  },
  {
   "cell_type": "markdown",
   "metadata": {},
   "source": [
    "## Lets create a class called 'Pokemon' and create our pokemon as instances"
   ]
  },
  {
   "cell_type": "code",
   "execution_count": 23,
   "metadata": {
    "scrolled": true
   },
   "outputs": [
    {
     "name": "stdout",
     "output_type": "stream",
     "text": [
      "Pokemon: stunky\n",
      "stunky Weight: 192\n",
      "Types:poison dark \n",
      "Abilities: stench aftermath keen-eye "
     ]
    }
   ],
   "source": [
    "# class --Pokemon:\n",
    "    \n",
    "#    def __init__(self, name):\n",
    "        self.name = name\n",
    "        self.abilities = []\n",
    "        self.weight = None\n",
    "        self.types = []\n",
    "        self.image = ''\n",
    "        self.pokemon_api_call()\n",
    "        \n",
    "#    def pokemon_api_call(self):\n",
    "        res = get(f\"https://pokeapi.co/api/v2/pokemon/{self.name}\")\n",
    "        if res.ok:\n",
    "            data = res.json()\n",
    "            self.name = data['name']\n",
    "            self.abilities = data['abilities']\n",
    "            self.weight = data['weight']\n",
    "            self.types = data['types']\n",
    "            self.image = data['sprites']['front_default']\n",
    "        else:\n",
    "            print(f'Error: status {res.status_code}')\n",
    "            \n",
    "#    def __repr__(self):\n",
    "        return f'Pokemon: {self.name}'\n",
    "    \n",
    "#    def display_pokemon_info(self):\n",
    "        print(f\"{self.name} Weight: {self.weight}\")\n",
    "        print(\"Types:\", end = '')\n",
    "        for poke_type in self.types:\n",
    "            print(poke_type['type']['name'], end = \" \")\n",
    "        print('\\nAbilities:', end =' ')\n",
    "        for ability in self.abilities:\n",
    "            print(ability['ability']['name'], end=' ')\n",
    "            \n",
    "            \n",
    "    \n",
    "pokemon = Pokemon('stunky')\n",
    "\n",
    "print(repr(pokemon))\n",
    "pokemon.display_pokemon_info()"
   ]
  },
  {
   "cell_type": "markdown",
   "metadata": {},
   "source": [
    "# Let's Catch some Pokemon"
   ]
  },
  {
   "cell_type": "code",
   "execution_count": 19,
   "metadata": {
    "scrolled": false
   },
   "outputs": [
    {
     "name": "stdout",
     "output_type": "stream",
     "text": [
      "What pokemon are you catching? or Done? done\n",
      "Thanks for playing!\n"
     ]
    }
   ],
   "source": [
    "pokedex = {}\n",
    "\n",
    "catching_pokemon = True\n",
    "\n",
    "while catching_pokemon:\n",
    "    pokemon_input = input(\"What pokemon are you catching? or Done? \").lower()\n",
    "    if pokemon_input == 'done':\n",
    "        catching_pokemon = False\n",
    "        print(\"Thanks for playing!\")\n",
    "        break\n",
    "    pokemon = Pokemon(pokemon_input)\n",
    "    if pokemon.abilities and pokemon not in pokedex:\n",
    "        pokedex[pokemon_input] = pokemon\n",
    "    else:\n",
    "        print(\"Please use correct pokemon name\")\n",
    "    print(pokedex)\n",
    "        "
   ]
  },
  {
   "cell_type": "code",
   "execution_count": 20,
   "metadata": {
    "scrolled": true
   },
   "outputs": [
    {
     "name": "stdout",
     "output_type": "stream",
     "text": [
      "Pokedex: sean\n",
      "What pokemon are we adding? snorlax\n",
      "sean's Pokedex- \n",
      "snorlax: Pokemon: snorlax\n",
      "What pokemon are we removing? none\n",
      "Error: Pokemon not in collection \n",
      "sean's Pokedex- \n",
      "snorlax: Pokemon: snorlax\n"
     ]
    }
   ],
   "source": [
    "class Pokedex:\n",
    "    \n",
    "    def __init__(self, username):\n",
    "        self.username = username\n",
    "        self.collection = {}\n",
    "        \n",
    "    def __repr__(self):\n",
    "        return f'Pokedex: {self.username}'    \n",
    "    \n",
    "    def builld_team(self):\n",
    "        while True:\n",
    "            building_team = input(\"Are you still building your team? Y/N \").lower()\n",
    "            if building == 'y':\n",
    "                self.add_pokemon()\n",
    "            elif building == 'n':\n",
    "                break\n",
    "            else:\n",
    "                print(f\"Error: Wrong input \")\n",
    "    \n",
    "    def add_pokemon(self):\n",
    "        pokemon_to_add = input('What pokemon are we adding? ').lower()\n",
    "        pokemon = Pokemon(pokemon_to_add)\n",
    "        if pokemon.abilities:\n",
    "            self.collection[pokemon.name] = pokemon\n",
    "        else:\n",
    "            print('Error: Incorrect pokemon nam / Nothing added ')\n",
    "    \n",
    "    def remove_pokemon(self):\n",
    "        pokemon_to_remove = input('What pokemon are we removing? ').lower()\n",
    "        if pokemon_to_remove in self.collection:\n",
    "            self.collection.pop(pokemon_to_remove)\n",
    "        else:\n",
    "            print('Error: Pokemon not in collection ')\n",
    "            \n",
    "    def display_collection(self):\n",
    "        print(f'{self.username}\\'s Pokedex- ')\n",
    "        for pokemon in self.collection.keys():\n",
    "            print(f\"{pokemon}: {self.collection[pokemon]}\")\n",
    "        \n",
    "            \n",
    "pokedex = Pokedex('sean')\n",
    "\n",
    "print(repr(pokedex))        \n",
    "\n",
    "pokedex.add_pokemon()\n",
    "\n",
    "pokedex.display_collection()\n",
    "\n",
    "pokedex.remove_pokemon()\n",
    "\n",
    "pokedex.display_collection()"
   ]
  },
  {
   "cell_type": "code",
   "execution_count": 68,
   "metadata": {
    "scrolled": false
   },
   "outputs": [
    {
     "ename": "AttributeError",
     "evalue": "'dict' object has no attribute 'collection'",
     "output_type": "error",
     "traceback": [
      "\u001b[1;31m---------------------------------------------------------------------------\u001b[0m",
      "\u001b[1;31mAttributeError\u001b[0m                            Traceback (most recent call last)",
      "Cell \u001b[1;32mIn[68], line 1\u001b[0m\n\u001b[1;32m----> 1\u001b[0m \u001b[38;5;28mprint\u001b[39m(\u001b[38;5;124mf\u001b[39m\u001b[38;5;124m'\u001b[39m\u001b[38;5;132;01m{\u001b[39;00mpokedex\u001b[38;5;241m.\u001b[39mcollection\u001b[38;5;132;01m= }\u001b[39;00m\u001b[38;5;124m'\u001b[39m)\n\u001b[0;32m      3\u001b[0m \u001b[38;5;28mprint\u001b[39m(\u001b[38;5;124mf\u001b[39m\u001b[38;5;124m'\u001b[39m\u001b[38;5;132;01m{\u001b[39;00mpokedex\u001b[38;5;241m.\u001b[39mcollection[pokemon\u001b[38;5;241m.\u001b[39mname]\u001b[38;5;241m.\u001b[39mweight\u001b[38;5;132;01m}\u001b[39;00m\u001b[38;5;124m'\u001b[39m)\n",
      "\u001b[1;31mAttributeError\u001b[0m: 'dict' object has no attribute 'collection'"
     ]
    }
   ],
   "source": [
    "print(f'{pokedex.collection= }')\n",
    "\n",
    "print(f'{pokedex.collection[pokemon.name].weight}')"
   ]
  },
  {
   "cell_type": "markdown",
   "metadata": {},
   "source": [
    "# Exercise 1:"
   ]
  },
  {
   "cell_type": "markdown",
   "metadata": {},
   "source": [
    "### Create a Method prints a random image of your pokemon\n",
    "\n",
    "<p>HINT: You may need another attribute as well to store your image url within. </p>"
   ]
  },
  {
   "cell_type": "code",
   "execution_count": 171,
   "metadata": {},
   "outputs": [],
   "source": [
    "# Display an image in Jupyter notebook\n",
    "from IPython.display import Image\n",
    "from requests import get\n",
    "from random import choice \n",
    "# display(Image( 'https://i.redd.it/45n4mhusa8l41.jpg', width = 300))\n"
   ]
  },
  {
   "cell_type": "code",
   "execution_count": 172,
   "metadata": {},
   "outputs": [],
   "source": [
    "# recreate your pokemon class here\n",
    "class Pokemon:\n",
    "    \n",
    "    def __init__(self, name):\n",
    "        self.level= 0\n",
    "        self.name = name\n",
    "        self.abilities = []\n",
    "        self.types = []\n",
    "        self.images = []\n",
    "        self.image = ''\n",
    "        self.species = ''\n",
    "        self.pokemon_api_call()\n",
    "        \n",
    "    def __repr__(self):\n",
    "        return f'Pokemon: {self.name}'\n",
    "        \n",
    "    def pokemon_api_call(self):\n",
    "        response = get(f\"https://pokeapi.co/api/v2/pokemon/{self.name}\")\n",
    "        if response.ok:\n",
    "            data = response.json()\n",
    "            self.name = data['name']\n",
    "            self.abilities = Move_Tutor(data['abilities'] , self.name)\n",
    "            self.types = data['types']\n",
    "            self.species = data['species']['url']\n",
    "            self.images = [data['sprites'][key] for key in data['sprites'] if type(data['sprites'][key]) == str]\n",
    "            self.lvl = PokemonLevel(self.species , self.name)\n",
    "        else:\n",
    "            print(f'Error: status {response.status_code} : Wrong pokemon name ')\n",
    "            \n",
    "    def generate_img(self):\n",
    "            self.image = choice(self.images)\n",
    "            display(Image(self.image , width = 200))\n",
    "            \n",
    "                    "
   ]
  },
  {
   "cell_type": "code",
   "execution_count": 173,
   "metadata": {
    "scrolled": true
   },
   "outputs": [
    {
     "name": "stdout",
     "output_type": "stream",
     "text": [
      "Pokemon: stunky\n"
     ]
    },
    {
     "data": {
      "image/png": "[encoded data removed]",
      "text/plain": [
       "<IPython.core.display.Image object>"
      ]
     },
     "metadata": {
      "image/png": {
       "width": 200
      }
     },
     "output_type": "display_data"
    }
   ],
   "source": [
    "# Calling our new method\n",
    "\n",
    "my_pokemon = Pokemon('stunky')\n",
    "print(repr(my_pokemon))\n",
    "my_pokemon.generate_img()\n"
   ]
  },
  {
   "cell_type": "markdown",
   "metadata": {},
   "source": [
    "## Exercise 2:"
   ]
  },
  {
   "cell_type": "markdown",
   "metadata": {},
   "source": [
    "### Create a Method that evolves your Pokemon\n",
    "If your pokemon can't evolve any further print a message that says \"\\<name of pokemon> can't evolve.\""
   ]
  },
  {
   "cell_type": "code",
   "execution_count": 174,
   "metadata": {},
   "outputs": [],
   "source": [
    "class PokemonLevel():\n",
    "    \n",
    "    def __init__(self, data, name):\n",
    "        self.level = 0\n",
    "        self.species = data\n",
    "        self.evolution = ''\n",
    "        self.name = name\n",
    "        \n",
    "    def __repr__(self):\n",
    "        return self.level\n",
    "        \n",
    "    def pokemon_evolve(self, pokemon):\n",
    "        response = get(f\"{self.species}\")\n",
    "        if response.ok:\n",
    "            data = response.json()\n",
    "            self.evolution = data['evolution_chain']['url']\n",
    "            response = get(f\"{self.evolution}\")\n",
    "            data = response.json()\n",
    "            if data['chain']['evolves_to']:\n",
    "                self.evolution = data['chain']['species']['name']\n",
    "                if self.evolution == self.name and data['chain']['evolves_to'][0]['species']['name']:\n",
    "                    self.evolution = data['chain']['evolves_to'][0]['species']['name']\n",
    "                    print(f\"What's this!? {self.name} is evolving into {self.evolution}!\")\n",
    "                    return Pokemon(self.evolution)\n",
    "                elif self.evolution != self.name:\n",
    "                    self.evolution = data['chain']['evolves_to'][0]['species']['name']\n",
    "                    if self.evolution == self.name and data['chain']['evolves_to'][0]['evolves_to'][0]['species']['name']:\n",
    "                        self.evolution = data['chain']['evolves_to'][0]['evolves_to'][0]['species']['name']\n",
    "                        print(f\"What's this!? {self.name} is evolving into {self.evolution}!\")\n",
    "                        return Pokemon(self.evolution)\n",
    "                else:\n",
    "                    print(f\"{self.name} cannot evolve\")\n",
    "                    return pokemon\n",
    "            else:\n",
    "                print(f\"{self.name} cannot evolve\")\n",
    "                return pokemon\n",
    "        else:\n",
    "            print(f'Error: status {response.status_code}')\n",
    "            return pokemon\n",
    "    "
   ]
  },
  {
   "cell_type": "markdown",
   "metadata": {},
   "source": [
    "Now let's evolve a few"
   ]
  },
  {
   "cell_type": "code",
   "execution_count": 175,
   "metadata": {
    "scrolled": false
   },
   "outputs": [
    {
     "name": "stdout",
     "output_type": "stream",
     "text": [
      "What's this!? squirtle is evolving into wartortle!\n",
      "Pokemon: wartortle\n"
     ]
    },
    {
     "data": {
      "image/png": "[encoded data removed]",
      "text/plain": [
       "<IPython.core.display.Image object>"
      ]
     },
     "metadata": {
      "image/png": {
       "width": 200
      }
     },
     "output_type": "display_data"
    }
   ],
   "source": [
    "second_poke = Pokemon('squirtle')\n",
    "\n",
    "second_poke = second_poke.lvl.pokemon_evolve(second_poke)\n",
    "print(repr(second_poke))\n",
    "second_poke.generate_img()"
   ]
  },
  {
   "cell_type": "code",
   "execution_count": 176,
   "metadata": {
    "scrolled": false
   },
   "outputs": [
    {
     "name": "stdout",
     "output_type": "stream",
     "text": [
      "What's this!? wartortle is evolving into blastoise!\n",
      "Pokemon: blastoise\n"
     ]
    },
    {
     "data": {
      "image/png": "[encoded data removed]",
      "text/plain": [
       "<IPython.core.display.Image object>"
      ]
     },
     "metadata": {
      "image/png": {
       "width": 200
      }
     },
     "output_type": "display_data"
    }
   ],
   "source": [
    "second_poke = second_poke.lvl.pokemon_evolve(second_poke)\n",
    "print(repr(second_poke))\n",
    "second_poke.generate_img()"
   ]
  },
  {
   "cell_type": "code",
   "execution_count": 177,
   "metadata": {
    "scrolled": true
   },
   "outputs": [
    {
     "name": "stdout",
     "output_type": "stream",
     "text": [
      "Pokemon: ditto\n",
      "ditto cannot evolve\n"
     ]
    },
    {
     "data": {
      "image/png": "[encoded data removed]",
      "text/plain": [
       "<IPython.core.display.Image object>"
      ]
     },
     "metadata": {
      "image/png": {
       "width": 200
      }
     },
     "output_type": "display_data"
    }
   ],
   "source": [
    "ditto = Pokemon('ditto')\n",
    "print(repr(ditto))\n",
    "ditto = ditto.lvl.pokemon_evolve(ditto)\n",
    "ditto.generate_img()"
   ]
  },
  {
   "cell_type": "markdown",
   "metadata": {},
   "source": [
    "#  Final Exercise: <br> <br>Create a Move_Tutor Class that will allow the Pokemon Class to inherit a move list.\n",
    "<br>\n",
    "<p>for an added bonus you can make sure that if a pokemon has 4 moves the user can choose one of them to replace with a new move. </p>"
   ]
  },
  {
   "cell_type": "code",
   "execution_count": 207,
   "metadata": {},
   "outputs": [],
   "source": [
    "class Move_Tutor:\n",
    "    move_list = []\n",
    "    max_moves = 4\n",
    "    poke_name = ''\n",
    "    \n",
    "    def __init__(self, move_list, pokemon):\n",
    "        self.move_list = [dicts['ability']['name'] for dicts in move_list]\n",
    "        self.poke_name = pokemon\n",
    "        \n",
    "    def __repr__(self):\n",
    "        strng = f\"{self.poke_name} knows {len(self.move_list)} moves: \"\n",
    "        for move in self.move_list:\n",
    "            strng += f' {move}'\n",
    "        return strng\n",
    "    \n",
    "    def show_moves(self):\n",
    "        strng = f\"{self.poke_name} knows {len(self.move_list)} moves: \"\n",
    "        for move in self.move_list:\n",
    "            strng += f' {move}'\n",
    "        print(strng)\n",
    "            \n",
    "    def del_move(self):\n",
    "        while True:\n",
    "            prompt = input(\"Would you like to forget an ability? Y/N \").lower()\n",
    "            if prompt == 'y':\n",
    "                [print(f'{move}', end=' ') for move in move_list]\n",
    "                rem_choice = input(\"Which move would you like to remove? \").lower()\n",
    "                if rem_choice in move_list:\n",
    "                    move_list.remove(rem_choice)\n",
    "                    print(f\"{self.poke_name} has forgotten {rem_choice}! \")\n",
    "                    return True\n",
    "            elif prompt == 'n':\n",
    "                return False\n",
    "            else:\n",
    "                print(\"Invalid Response: \")\n",
    "            \n",
    "    def check_move(self, user_choice):\n",
    "        res = get(f\"https://pokeapi.co/api/v2/pokemon/{self.poke_name}\")\n",
    "        data = res.json()\n",
    "        total_moves = data['moves']\n",
    "        all_moves = [moves['move']['name'] for moves in total_moves]\n",
    "        if user_choice in all_moves:\n",
    "            return True\n",
    "        else:\n",
    "            return False\n",
    "        \n",
    "    def teach_move(self):\n",
    "        while True:\n",
    "            prompt = input(\"Which move would you like to add? \").lower()\n",
    "            check = self.check_move(prompt)\n",
    "            if check:\n",
    "                if len(self.move_list) == 4:\n",
    "                    print(f\"{poke_name} will have to forget an ability if you want to add this one.. \")\n",
    "                    choice = self.del_move()\n",
    "                    if choice:\n",
    "                        move_list.append(prompt)\n",
    "                        print(f\"{self.poke_name} has learned {prompt}!\")\n",
    "                        break\n",
    "                    else:\n",
    "                        print(f\"{self.poke_name} forgot about trying to learn {prompt}.. \")\n",
    "                        break\n",
    "                else:\n",
    "                    self.move_list.append(prompt)\n",
    "                    print(f\"{self.poke_name} has learned {prompt}!\")\n",
    "                    break\n",
    "            else:\n",
    "                print(\"Error: invalid answer \")"
   ]
  },
  {
   "cell_type": "code",
   "execution_count": 208,
   "metadata": {
    "scrolled": true
   },
   "outputs": [],
   "source": [
    "pikachu = Pokemon(\"pikachu\")"
   ]
  },
  {
   "cell_type": "code",
   "execution_count": 209,
   "metadata": {
    "scrolled": true
   },
   "outputs": [
    {
     "name": "stdout",
     "output_type": "stream",
     "text": [
      "Which move would you like to add? scratch\n",
      "Error: invalid answer \n",
      "Which move would you like to add? slam\n",
      "pikachu has learned slam!\n"
     ]
    }
   ],
   "source": [
    "pikachu.abilities.teach_move()\n"
   ]
  },
  {
   "cell_type": "code",
   "execution_count": 210,
   "metadata": {
    "scrolled": true
   },
   "outputs": [
    {
     "name": "stdout",
     "output_type": "stream",
     "text": [
      "pikachu knows 3 moves:  static lightning-rod slam\n"
     ]
    }
   ],
   "source": [
    "pikachu.abilities.show_moves()"
   ]
  },
  {
   "cell_type": "code",
   "execution_count": null,
   "metadata": {},
   "outputs": [],
   "source": []
  },
  {
   "cell_type": "code",
   "execution_count": null,
   "metadata": {},
   "outputs": [],
   "source": []
  }
 ],
 "metadata": {
  "kernelspec": {
   "display_name": "Python 3 (ipykernel)",
   "language": "python",
   "name": "python3"
  },
  "language_info": {
   "codemirror_mode": {
    "name": "ipython",
    "version": 3
   },
   "file_extension": ".py",
   "mimetype": "text/x-python",
   "name": "python",
   "nbconvert_exporter": "python",
   "pygments_lexer": "ipython3",
   "version": "3.10.9"
  }
 },
 "nbformat": 4,
 "nbformat_minor": 4
}
